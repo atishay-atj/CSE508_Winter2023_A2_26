{
  "nbformat": 4,
  "nbformat_minor": 0,
  "metadata": {
    "colab": {
      "provenance": []
    },
    "kernelspec": {
      "name": "python3",
      "display_name": "Python 3"
    },
    "language_info": {
      "name": "python"
    }
  },
  "cells": [
    {
      "cell_type": "code",
      "execution_count": 223,
      "metadata": {
        "colab": {
          "base_uri": "https://localhost:8080/"
        },
        "id": "H5Wh93anbj--",
        "outputId": "5dd8baf3-6926-4c54-83ab-f44c91bd306b"
      },
      "outputs": [
        {
          "output_type": "stream",
          "name": "stdout",
          "text": [
            "Drive already mounted at /content/drive; to attempt to forcibly remount, call drive.mount(\"/content/drive\", force_remount=True).\n"
          ]
        }
      ],
      "source": [
        "from google.colab import drive\n",
        "drive.mount('/content/drive')"
      ]
    },
    {
      "cell_type": "code",
      "source": [
        "import os   \n",
        "import nltk\n",
        "import pandas as pd\n",
        "from nltk.corpus import stopwords\n",
        "from nltk.tokenize import word_tokenize\n",
        "from nltk.stem import WordNetLemmatizer\n",
        "import string\n",
        "nltk.download('stopwords')\n",
        "nltk.download('punkt')\n",
        "nltk.download('wordnet')\n",
        "from sklearn.feature_extraction.text import TfidfVectorizer\n",
        "import numpy as np\n",
        "from sklearn.feature_extraction.text import CountVectorizer\n",
        "from sklearn.feature_extraction.text import TfidfTransformer\n",
        "from sklearn.naive_bayes import MultinomialNB\n",
        "from scipy.sparse import csr_matrix\n",
        "from sklearn.model_selection import train_test_split\n",
        "from sklearn.naive_bayes import MultinomialNB\n",
        "from sklearn.metrics import accuracy_score, precision_score, recall_score, f1_score , confusion_matrix\n",
        "\n",
        "\n"
      ],
      "metadata": {
        "colab": {
          "base_uri": "https://localhost:8080/"
        },
        "id": "_wrVXeIWbunz",
        "outputId": "058cc12b-277b-444a-9267-22d7ba1eb950"
      },
      "execution_count": 224,
      "outputs": [
        {
          "output_type": "stream",
          "name": "stderr",
          "text": [
            "[nltk_data] Downloading package stopwords to /root/nltk_data...\n",
            "[nltk_data]   Package stopwords is already up-to-date!\n",
            "[nltk_data] Downloading package punkt to /root/nltk_data...\n",
            "[nltk_data]   Package punkt is already up-to-date!\n",
            "[nltk_data] Downloading package wordnet to /root/nltk_data...\n",
            "[nltk_data]   Package wordnet is already up-to-date!\n"
          ]
        }
      ]
    },
    {
      "cell_type": "code",
      "source": [
        "trainDataFrame= pd.read_csv(\"/content/drive/MyDrive/IR_ASSIGNMENT2/Q2/BBC News Train.csv\")\n",
        "trainDataFrame.head()"
      ],
      "metadata": {
        "colab": {
          "base_uri": "https://localhost:8080/",
          "height": 206
        },
        "id": "FS2u_Bs2bxBG",
        "outputId": "1c0b9fde-5511-4145-86da-0ea013ddbb6d"
      },
      "execution_count": 225,
      "outputs": [
        {
          "output_type": "execute_result",
          "data": {
            "text/plain": [
              "   ArticleId                                               Text  Category\n",
              "0       1833  worldcom ex-boss launches defence lawyers defe...  business\n",
              "1        154  german business confidence slides german busin...  business\n",
              "2       1101  bbc poll indicates economic gloom citizens in ...  business\n",
              "3       1976  lifestyle  governs mobile choice  faster  bett...      tech\n",
              "4        917  enron bosses in $168m payout eighteen former e...  business"
            ],
            "text/html": [
              "\n",
              "  <div id=\"df-b88d74f2-c95e-4d8c-afc2-ebfb80da197e\">\n",
              "    <div class=\"colab-df-container\">\n",
              "      <div>\n",
              "<style scoped>\n",
              "    .dataframe tbody tr th:only-of-type {\n",
              "        vertical-align: middle;\n",
              "    }\n",
              "\n",
              "    .dataframe tbody tr th {\n",
              "        vertical-align: top;\n",
              "    }\n",
              "\n",
              "    .dataframe thead th {\n",
              "        text-align: right;\n",
              "    }\n",
              "</style>\n",
              "<table border=\"1\" class=\"dataframe\">\n",
              "  <thead>\n",
              "    <tr style=\"text-align: right;\">\n",
              "      <th></th>\n",
              "      <th>ArticleId</th>\n",
              "      <th>Text</th>\n",
              "      <th>Category</th>\n",
              "    </tr>\n",
              "  </thead>\n",
              "  <tbody>\n",
              "    <tr>\n",
              "      <th>0</th>\n",
              "      <td>1833</td>\n",
              "      <td>worldcom ex-boss launches defence lawyers defe...</td>\n",
              "      <td>business</td>\n",
              "    </tr>\n",
              "    <tr>\n",
              "      <th>1</th>\n",
              "      <td>154</td>\n",
              "      <td>german business confidence slides german busin...</td>\n",
              "      <td>business</td>\n",
              "    </tr>\n",
              "    <tr>\n",
              "      <th>2</th>\n",
              "      <td>1101</td>\n",
              "      <td>bbc poll indicates economic gloom citizens in ...</td>\n",
              "      <td>business</td>\n",
              "    </tr>\n",
              "    <tr>\n",
              "      <th>3</th>\n",
              "      <td>1976</td>\n",
              "      <td>lifestyle  governs mobile choice  faster  bett...</td>\n",
              "      <td>tech</td>\n",
              "    </tr>\n",
              "    <tr>\n",
              "      <th>4</th>\n",
              "      <td>917</td>\n",
              "      <td>enron bosses in $168m payout eighteen former e...</td>\n",
              "      <td>business</td>\n",
              "    </tr>\n",
              "  </tbody>\n",
              "</table>\n",
              "</div>\n",
              "      <button class=\"colab-df-convert\" onclick=\"convertToInteractive('df-b88d74f2-c95e-4d8c-afc2-ebfb80da197e')\"\n",
              "              title=\"Convert this dataframe to an interactive table.\"\n",
              "              style=\"display:none;\">\n",
              "        \n",
              "  <svg xmlns=\"http://www.w3.org/2000/svg\" height=\"24px\"viewBox=\"0 0 24 24\"\n",
              "       width=\"24px\">\n",
              "    <path d=\"M0 0h24v24H0V0z\" fill=\"none\"/>\n",
              "    <path d=\"M18.56 5.44l.94 2.06.94-2.06 2.06-.94-2.06-.94-.94-2.06-.94 2.06-2.06.94zm-11 1L8.5 8.5l.94-2.06 2.06-.94-2.06-.94L8.5 2.5l-.94 2.06-2.06.94zm10 10l.94 2.06.94-2.06 2.06-.94-2.06-.94-.94-2.06-.94 2.06-2.06.94z\"/><path d=\"M17.41 7.96l-1.37-1.37c-.4-.4-.92-.59-1.43-.59-.52 0-1.04.2-1.43.59L10.3 9.45l-7.72 7.72c-.78.78-.78 2.05 0 2.83L4 21.41c.39.39.9.59 1.41.59.51 0 1.02-.2 1.41-.59l7.78-7.78 2.81-2.81c.8-.78.8-2.07 0-2.86zM5.41 20L4 18.59l7.72-7.72 1.47 1.35L5.41 20z\"/>\n",
              "  </svg>\n",
              "      </button>\n",
              "      \n",
              "  <style>\n",
              "    .colab-df-container {\n",
              "      display:flex;\n",
              "      flex-wrap:wrap;\n",
              "      gap: 12px;\n",
              "    }\n",
              "\n",
              "    .colab-df-convert {\n",
              "      background-color: #E8F0FE;\n",
              "      border: none;\n",
              "      border-radius: 50%;\n",
              "      cursor: pointer;\n",
              "      display: none;\n",
              "      fill: #1967D2;\n",
              "      height: 32px;\n",
              "      padding: 0 0 0 0;\n",
              "      width: 32px;\n",
              "    }\n",
              "\n",
              "    .colab-df-convert:hover {\n",
              "      background-color: #E2EBFA;\n",
              "      box-shadow: 0px 1px 2px rgba(60, 64, 67, 0.3), 0px 1px 3px 1px rgba(60, 64, 67, 0.15);\n",
              "      fill: #174EA6;\n",
              "    }\n",
              "\n",
              "    [theme=dark] .colab-df-convert {\n",
              "      background-color: #3B4455;\n",
              "      fill: #D2E3FC;\n",
              "    }\n",
              "\n",
              "    [theme=dark] .colab-df-convert:hover {\n",
              "      background-color: #434B5C;\n",
              "      box-shadow: 0px 1px 3px 1px rgba(0, 0, 0, 0.15);\n",
              "      filter: drop-shadow(0px 1px 2px rgba(0, 0, 0, 0.3));\n",
              "      fill: #FFFFFF;\n",
              "    }\n",
              "  </style>\n",
              "\n",
              "      <script>\n",
              "        const buttonEl =\n",
              "          document.querySelector('#df-b88d74f2-c95e-4d8c-afc2-ebfb80da197e button.colab-df-convert');\n",
              "        buttonEl.style.display =\n",
              "          google.colab.kernel.accessAllowed ? 'block' : 'none';\n",
              "\n",
              "        async function convertToInteractive(key) {\n",
              "          const element = document.querySelector('#df-b88d74f2-c95e-4d8c-afc2-ebfb80da197e');\n",
              "          const dataTable =\n",
              "            await google.colab.kernel.invokeFunction('convertToInteractive',\n",
              "                                                     [key], {});\n",
              "          if (!dataTable) return;\n",
              "\n",
              "          const docLinkHtml = 'Like what you see? Visit the ' +\n",
              "            '<a target=\"_blank\" href=https://colab.research.google.com/notebooks/data_table.ipynb>data table notebook</a>'\n",
              "            + ' to learn more about interactive tables.';\n",
              "          element.innerHTML = '';\n",
              "          dataTable['output_type'] = 'display_data';\n",
              "          await google.colab.output.renderOutput(dataTable, element);\n",
              "          const docLink = document.createElement('div');\n",
              "          docLink.innerHTML = docLinkHtml;\n",
              "          element.appendChild(docLink);\n",
              "        }\n",
              "      </script>\n",
              "    </div>\n",
              "  </div>\n",
              "  "
            ]
          },
          "metadata": {},
          "execution_count": 225
        }
      ]
    },
    {
      "cell_type": "code",
      "source": [
        "class color:\n",
        "   PURPLE = '\\033[95m'\n",
        "   CYAN = '\\033[96m'\n",
        "   DARKCYAN = '\\033[36m'\n",
        "   BLUE = '\\033[94m'\n",
        "   GREEN = '\\033[92m'\n",
        "   YELLOW = '\\033[93m'\n",
        "   RED = '\\033[91m'\n",
        "   BOLD = '\\033[1m'\n",
        "   UNDERLINE = '\\033[4m'\n",
        "   END = '\\033[0m'"
      ],
      "metadata": {
        "id": "vn1tb6KneJ4Q"
      },
      "execution_count": 226,
      "outputs": []
    },
    {
      "cell_type": "code",
      "source": [
        "import itertools\n",
        "colors = itertools.cycle([\"r\", \"b\", \"g\"])"
      ],
      "metadata": {
        "id": "M_sfYtMmeK0J"
      },
      "execution_count": 227,
      "outputs": []
    },
    {
      "cell_type": "code",
      "source": [
        "trainDataFrame.shape"
      ],
      "metadata": {
        "colab": {
          "base_uri": "https://localhost:8080/"
        },
        "id": "wBoJ5OtObzJA",
        "outputId": "21ce4cb0-c531-4b36-be77-bab054af1011"
      },
      "execution_count": 228,
      "outputs": [
        {
          "output_type": "execute_result",
          "data": {
            "text/plain": [
              "(1490, 3)"
            ]
          },
          "metadata": {},
          "execution_count": 228
        }
      ]
    },
    {
      "cell_type": "code",
      "source": [
        "# removing unnecessary columns."
      ],
      "metadata": {
        "id": "FoQ_gBcWierD"
      },
      "execution_count": 229,
      "outputs": []
    },
    {
      "cell_type": "code",
      "source": [
        "# here we are removing column named 'ArticleId'.\n",
        "data = trainDataFrame.drop(columns=['ArticleId'])"
      ],
      "metadata": {
        "id": "QF6C8JWQb0_s"
      },
      "execution_count": 230,
      "outputs": []
    },
    {
      "cell_type": "code",
      "source": [
        "list_of_stopwords_and_punctuation = stopwords.words('english') + list(string.punctuation)\n",
        "\n",
        "# here we are initializing the WordNetLemmatizer\n",
        "lemmatizer = WordNetLemmatizer()\n",
        "\n",
        "# here we are creating a function to preprocess the text\n",
        "def preprocessing(text):\n",
        "    # here we are lowercasing the text\n",
        "    text = text.lower()\n",
        "\n",
        "    # here we are tokenizing the text\n",
        "    words = word_tokenize(text)\n",
        "\n",
        "    # here we are Removing the stopwords and punctuation marks\n",
        "    words = [word for word in words if word not in list_of_stopwords_and_punctuation]\n",
        "\n",
        "    # here we are Lemmatizing the words\n",
        "    words = [lemmatizer.lemmatize(word) for word in words]\n",
        "\n",
        "    return words\n",
        "\n",
        "# here are applying the preprocessing function\n",
        "data['Text'] = data['Text'].apply(preprocessing)"
      ],
      "metadata": {
        "id": "XuzrMFReb3QN"
      },
      "execution_count": 231,
      "outputs": []
    },
    {
      "cell_type": "code",
      "source": [
        "# for the TfidfVectorizer we need to convert the list of words to a string \n",
        "data['Text'] = data['Text'].apply(' '.join)\n",
        "\n",
        "# Initializing \n",
        "c_v = CountVectorizer()\n",
        "tfidf_transformer = TfidfTransformer()\n",
        "\n",
        "# here we are Fitting and transforming the vectorizer on the 'Text' column\n",
        "term_doc_matrix = c_v.fit_transform(data['Text'])\n",
        "\n",
        "# here we are Generating the TF-IDF matrix\n",
        "tfidf_matrix =  tfidf_transformer.fit_transform(term_doc_matrix).toarray()\n",
        "\n",
        "# here we are evaluating the ICF values\n",
        "num_docs = len(data)\n",
        "icf_values = np.log(num_docs / np.count_nonzero(tfidf_matrix, axis=0))\n",
        "\n",
        "# here we are converting  tfidf matrix and icf values to sparse matrices\n",
        "tfidf_matrix = csr_matrix(tfidf_matrix)\n",
        "icf_values = csr_matrix(icf_values)\n",
        "\n",
        "# here we are evaluating tf_icf matrix.\n",
        "tf_icf_matrix = tfidf_matrix.multiply(icf_values)\n"
      ],
      "metadata": {
        "id": "9S22ero7b5wE"
      },
      "execution_count": 232,
      "outputs": []
    },
    {
      "cell_type": "code",
      "source": [
        "# now we will split the dataset into train and test set(test_size=0.3)\n",
        "X_train, X_test, y_train, y_test = train_test_split(tf_icf_matrix, data['Category'], test_size=0.3, random_state=42)"
      ],
      "metadata": {
        "id": "MA3mE35Sb8lR"
      },
      "execution_count": 233,
      "outputs": []
    },
    {
      "cell_type": "code",
      "source": [
        "# now we will work with Naive Bayes classifier.\n",
        "clf = MultinomialNB()\n",
        "clf.fit(X_train, y_train)\n",
        "y_pred = clf.predict(X_test)"
      ],
      "metadata": {
        "id": "It_h7aTHb-2W"
      },
      "execution_count": 234,
      "outputs": []
    },
    {
      "cell_type": "code",
      "source": [
        "# here we will calculate the accuracy score\n",
        "accuracy = accuracy_score(y_test, y_pred)\n",
        "\n",
        "print(color.BOLD+color.DARKCYAN+'Accuracy:', accuracy)\n",
        "\n",
        "# Working the confusion matrix\n",
        "confusion_matrix = confusion_matrix(y_test, y_pred)\n",
        "print(color.BOLD+color.DARKCYAN+'Confusion matrix:\\n', confusion_matrix)\n",
        "\n",
        "# evaluating precision and recall\n",
        "precision = precision_score(y_test, y_pred, average='macro')\n",
        "f1_1 = f1_score(y_test, y_pred, average='macro')\n",
        "recall = recall_score(y_test, y_pred, average='macro')\n",
        "\n",
        "\n",
        "print(color.BOLD+color.DARKCYAN+f'Precision: {precision:.4f}')\n",
        "print(color.BOLD+color.DARKCYAN+f'Recall: {recall:.4f}')\n",
        "print(color.BOLD+color.DARKCYAN+f'F1 score: {f1_1:.4f}')"
      ],
      "metadata": {
        "colab": {
          "base_uri": "https://localhost:8080/"
        },
        "id": "BCo1G9UGcAlB",
        "outputId": "4cca4c10-6433-4dd4-c7be-57b31c7d8cff"
      },
      "execution_count": 235,
      "outputs": [
        {
          "output_type": "stream",
          "name": "stdout",
          "text": [
            "\u001b[1m\u001b[36mAccuracy: 0.9776286353467561\n",
            "\u001b[1m\u001b[36mConfusion matrix:\n",
            " [[104   0   2   0   2]\n",
            " [  1  78   0   0   0]\n",
            " [  2   0  84   0   0]\n",
            " [  0   0   1 100   0]\n",
            " [  1   0   1   0  71]]\n",
            "\u001b[1m\u001b[36mPrecision: 0.9780\n",
            "\u001b[1m\u001b[36mRecall: 0.9780\n",
            "\u001b[1m\u001b[36mF1 score: 0.9779\n"
          ]
        }
      ]
    },
    {
      "cell_type": "code",
      "source": [
        "# splitting the dataset(test_size=0.2)\n",
        "X_train2, X_test2, y_train2, y_test2 = train_test_split(tf_icf_matrix, data['Category'], test_size=0.2, random_state=42)"
      ],
      "metadata": {
        "id": "b2nQanltcC_Y"
      },
      "execution_count": 236,
      "outputs": []
    },
    {
      "cell_type": "code",
      "source": [
        "#  Naive Bayes classifier\n",
        "clf2 = MultinomialNB()\n",
        "clf2.fit(X_train2, y_train2)\n",
        "y_pred2 = clf2.predict(X_test2)"
      ],
      "metadata": {
        "id": "OOgSnxWlcFUx"
      },
      "execution_count": 237,
      "outputs": []
    },
    {
      "cell_type": "code",
      "source": [
        "from sklearn.metrics import accuracy_score, confusion_matrix\n",
        "accuracy2 = accuracy_score(y_test2, y_pred2)\n",
        "\n",
        "print(color.BOLD+color.CYAN+'Accuracy:', accuracy2)\n",
        "\n",
        "confusion_matrix2 = confusion_matrix(y_test2, y_pred2)\n",
        "print(color.BOLD+color.CYAN+'Confusion matrix:\\n', confusion_matrix2)\n",
        "\n",
        "precision2 = precision_score(y_test2, y_pred2, average='macro')\n",
        "f1_2 = f1_score(y_test2, y_pred2, average='macro')\n",
        "recall2 = recall_score(y_test2, y_pred2, average='macro')\n",
        "\n",
        "\n",
        "print(color.BOLD+color.CYAN+f'Precision: {precision2:.4f}')\n",
        "print(color.BOLD+color.CYAN+f'Recall: {recall2:.4f}')\n",
        "print(color.BOLD+color.CYAN+f'F1 score: {f1_2:.4f}')"
      ],
      "metadata": {
        "colab": {
          "base_uri": "https://localhost:8080/"
        },
        "id": "c9ZTnn0ScHtG",
        "outputId": "cf869e67-d0db-4474-a4bd-d76692724b1c"
      },
      "execution_count": 238,
      "outputs": [
        {
          "output_type": "stream",
          "name": "stdout",
          "text": [
            "\u001b[1m\u001b[96mAccuracy: 0.9731543624161074\n",
            "\u001b[1m\u001b[96mConfusion matrix:\n",
            " [[72  0  2  0  1]\n",
            " [ 1 45  0  0  0]\n",
            " [ 2  0 54  0  0]\n",
            " [ 0  0  0 63  0]\n",
            " [ 1  0  1  0 56]]\n",
            "\u001b[1m\u001b[96mPrecision: 0.9754\n",
            "\u001b[1m\u001b[96mRecall: 0.9736\n",
            "\u001b[1m\u001b[96mF1 score: 0.9745\n"
          ]
        }
      ]
    },
    {
      "cell_type": "code",
      "source": [
        "# splitting the dataset(test_size=0.4)\n",
        "X_train3, X_test3, y_train3, y_test3 = train_test_split(tf_icf_matrix, data['Category'], test_size=0.4, random_state=42)"
      ],
      "metadata": {
        "id": "eDIC1_zXcJ_f"
      },
      "execution_count": 239,
      "outputs": []
    },
    {
      "cell_type": "code",
      "source": [
        "# Naive Bayes classifier\n",
        "clf3 = MultinomialNB()\n",
        "clf3.fit(X_train3, y_train3)\n",
        "y_pred3 = clf3.predict(X_test3)"
      ],
      "metadata": {
        "id": "y_v2CH6ecM5Y"
      },
      "execution_count": 240,
      "outputs": []
    },
    {
      "cell_type": "code",
      "source": [
        "accuracy3 = accuracy_score(y_test3, y_pred3)\n",
        "\n",
        "print(color.BOLD+color.GREEN+'Accuracy:', accuracy3)\n",
        "\n",
        "confusion_matrix3 = confusion_matrix(y_test3, y_pred3)\n",
        "print(color.BOLD+color.GREEN+'Confusion matrix:\\n', confusion_matrix3)\n",
        "\n",
        "precision3 = precision_score(y_test3, y_pred3, average='macro')\n",
        "f1_3 = f1_score(y_test3, y_pred3, average='macro')\n",
        "recall3 = recall_score(y_test3, y_pred3, average='macro')\n",
        "\n",
        "\n",
        "print(color.BOLD+color.GREEN+f'Precision: {precision3:.4f}')\n",
        "print(color.BOLD+color.GREEN+f'Recall: {recall3:.4f}')\n",
        "print(color.BOLD+color.GREEN+f'F1 score: {f1_3:.4f}')"
      ],
      "metadata": {
        "colab": {
          "base_uri": "https://localhost:8080/"
        },
        "id": "_reCNFHkcPOz",
        "outputId": "2646dedd-52fe-4c1b-8730-fb28c7194419"
      },
      "execution_count": 241,
      "outputs": [
        {
          "output_type": "stream",
          "name": "stdout",
          "text": [
            "\u001b[1m\u001b[92mAccuracy: 0.9748322147651006\n",
            "\u001b[1m\u001b[92mConfusion matrix:\n",
            " [[132   0   2   0   3]\n",
            " [  1 106   1   0   1]\n",
            " [  2   0 107   0   0]\n",
            " [  0   0   1 128   0]\n",
            " [  1   0   3   0 108]]\n",
            "\u001b[1m\u001b[92mPrecision: 0.9747\n",
            "\u001b[1m\u001b[92mRecall: 0.9748\n",
            "\u001b[1m\u001b[92mF1 score: 0.9746\n"
          ]
        }
      ]
    },
    {
      "cell_type": "code",
      "source": [
        "# here we are calculating the frequency of each category in the training set\n",
        "categoryProbability = y_train.value_counts(normalize=True)\n",
        "\n",
        "print(color.BOLD+color.BLUE+'Category probability:\\n', categoryProbability)"
      ],
      "metadata": {
        "colab": {
          "base_uri": "https://localhost:8080/"
        },
        "id": "v9YG3U4VcRNm",
        "outputId": "b6a4650a-a901-445f-c045-4e0c345f4d8c"
      },
      "execution_count": 242,
      "outputs": [
        {
          "output_type": "stream",
          "name": "stdout",
          "text": [
            "\u001b[1m\u001b[94mCategory probability:\n",
            " sport            0.234899\n",
            "business         0.218600\n",
            "entertainment    0.186002\n",
            "tech             0.180249\n",
            "politics         0.180249\n",
            "Name: Category, dtype: float64\n"
          ]
        }
      ]
    },
    {
      "cell_type": "code",
      "source": [
        "data['Text']"
      ],
      "metadata": {
        "colab": {
          "base_uri": "https://localhost:8080/"
        },
        "id": "yP3io3y0cWGS",
        "outputId": "539381f8-045d-4089-a311-ddc4f827d3ca"
      },
      "execution_count": 243,
      "outputs": [
        {
          "output_type": "execute_result",
          "data": {
            "text/plain": [
              "0       worldcom ex-boss launch defence lawyer defendi...\n",
              "1       german business confidence slide german busine...\n",
              "2       bbc poll indicates economic gloom citizen majo...\n",
              "3       lifestyle governs mobile choice faster better ...\n",
              "4       enron boss 168m payout eighteen former enron d...\n",
              "                              ...                        \n",
              "1485    double eviction big brother model caprice holb...\n",
              "1486    dj double act revamp chart show dj duo jk joel...\n",
              "1487    weak dollar hit reuters revenue medium group r...\n",
              "1488    apple ipod family expands market apple expande...\n",
              "1489    santy worm make unwelcome visit thousand websi...\n",
              "Name: Text, Length: 1490, dtype: object"
            ]
          },
          "metadata": {},
          "execution_count": 243
        }
      ]
    },
    {
      "cell_type": "code",
      "source": [
        "y_train"
      ],
      "metadata": {
        "colab": {
          "base_uri": "https://localhost:8080/"
        },
        "id": "eW47NpUzcW0G",
        "outputId": "a48f0684-9983-43bb-f839-c4e236717190"
      },
      "execution_count": 244,
      "outputs": [
        {
          "output_type": "execute_result",
          "data": {
            "text/plain": [
              "701     entertainment\n",
              "1142             tech\n",
              "490              tech\n",
              "10           politics\n",
              "147          business\n",
              "            ...      \n",
              "1130         politics\n",
              "1294         business\n",
              "860          politics\n",
              "1459    entertainment\n",
              "1126            sport\n",
              "Name: Category, Length: 1043, dtype: object"
            ]
          },
          "metadata": {},
          "execution_count": 244
        }
      ]
    },
    {
      "cell_type": "code",
      "source": [
        "# here we are looping over the unique categories in the training data set.\n",
        "for category in y_train.unique():\n",
        "    category_indices = y_train[y_train == category].index\n",
        "    avg_tficf = tf_icf_matrix[category_indices].mean(axis=0)\n",
        "    avg_tficf = np.squeeze(np.asarray(avg_tficf))\n",
        "    feature_names = tfidf_transformer.get_feature_names_out()\n",
        "    for feature_idx in np.argsort(avg_tficf)[-10:]:\n",
        "        feature_name = feature_names[feature_idx]\n",
        "        feature_tficf = avg_tficf[feature_idx]\n",
        "        print(color.BOLD+color.GREEN+f'{category}: {feature_name} - {feature_tficf:.4f}')"
      ],
      "metadata": {
        "colab": {
          "base_uri": "https://localhost:8080/"
        },
        "id": "FrCEwGa8ccg3",
        "outputId": "aeda1dfb-19cb-474f-9b42-98d7524aea22"
      },
      "execution_count": 245,
      "outputs": [
        {
          "output_type": "stream",
          "name": "stdout",
          "text": [
            "\u001b[1m\u001b[92mentertainment: x13588 - 0.0688\n",
            "\u001b[1m\u001b[92mentertainment: x18315 - 0.0709\n",
            "\u001b[1m\u001b[92mentertainment: x3028 - 0.0797\n",
            "\u001b[1m\u001b[92mentertainment: x1671 - 0.0843\n",
            "\u001b[1m\u001b[92mentertainment: x8134 - 0.0853\n",
            "\u001b[1m\u001b[92mentertainment: x14397 - 0.0891\n",
            "\u001b[1m\u001b[92mentertainment: x1382 - 0.0909\n",
            "\u001b[1m\u001b[92mentertainment: x2663 - 0.0955\n",
            "\u001b[1m\u001b[92mentertainment: x2512 - 0.1130\n",
            "\u001b[1m\u001b[92mentertainment: x8198 - 0.1537\n",
            "\u001b[1m\u001b[92mtech: x21092 - 0.0802\n",
            "\u001b[1m\u001b[92mtech: x12488 - 0.0828\n",
            "\u001b[1m\u001b[92mtech: x3226 - 0.0864\n",
            "\u001b[1m\u001b[92mtech: x18583 - 0.0875\n",
            "\u001b[1m\u001b[92mtech: x13105 - 0.0890\n",
            "\u001b[1m\u001b[92mtech: x21340 - 0.0913\n",
            "\u001b[1m\u001b[92mtech: x8764 - 0.0924\n",
            "\u001b[1m\u001b[92mtech: x3601 - 0.0955\n",
            "\u001b[1m\u001b[92mtech: x15085 - 0.1268\n",
            "\u001b[1m\u001b[92mtech: x13301 - 0.1640\n",
            "\u001b[1m\u001b[92mpolitics: x11454 - 0.0770\n",
            "\u001b[1m\u001b[92mpolitics: x7606 - 0.0794\n",
            "\u001b[1m\u001b[92mpolitics: x13509 - 0.0815\n",
            "\u001b[1m\u001b[92mpolitics: x3644 - 0.0907\n",
            "\u001b[1m\u001b[92mpolitics: x14758 - 0.0960\n",
            "\u001b[1m\u001b[92mpolitics: x12282 - 0.1026\n",
            "\u001b[1m\u001b[92mpolitics: x20264 - 0.1028\n",
            "\u001b[1m\u001b[92mpolitics: x11688 - 0.1177\n",
            "\u001b[1m\u001b[92mpolitics: x3165 - 0.1287\n",
            "\u001b[1m\u001b[92mpolitics: x7172 - 0.1354\n",
            "\u001b[1m\u001b[92mbusiness: x9064 - 0.0588\n",
            "\u001b[1m\u001b[92mbusiness: x10545 - 0.0599\n",
            "\u001b[1m\u001b[92mbusiness: x9105 - 0.0605\n",
            "\u001b[1m\u001b[92mbusiness: x6718 - 0.0612\n",
            "\u001b[1m\u001b[92mbusiness: x6002 - 0.0621\n",
            "\u001b[1m\u001b[92mbusiness: x9372 - 0.0625\n",
            "\u001b[1m\u001b[92mbusiness: x7086 - 0.0650\n",
            "\u001b[1m\u001b[92mbusiness: x2682 - 0.0713\n",
            "\u001b[1m\u001b[92mbusiness: x14212 - 0.0727\n",
            "\u001b[1m\u001b[92mbusiness: x22130 - 0.0997\n",
            "\u001b[1m\u001b[92msport: x21650 - 0.0569\n",
            "\u001b[1m\u001b[92msport: x17192 - 0.0586\n",
            "\u001b[1m\u001b[92msport: x8801 - 0.0596\n",
            "\u001b[1m\u001b[92msport: x10679 - 0.0597\n",
            "\u001b[1m\u001b[92msport: x4256 - 0.0602\n",
            "\u001b[1m\u001b[92msport: x12753 - 0.0619\n",
            "\u001b[1m\u001b[92msport: x5659 - 0.0647\n",
            "\u001b[1m\u001b[92msport: x2223 - 0.0670\n",
            "\u001b[1m\u001b[92msport: x4356 - 0.0759\n",
            "\u001b[1m\u001b[92msport: x7397 - 0.0806\n"
          ]
        }
      ]
    },
    {
      "cell_type": "code",
      "source": [
        "data2 = trainDataFrame.drop(columns=['ArticleId'])"
      ],
      "metadata": {
        "id": "S4aQ3UzFce0N"
      },
      "execution_count": 246,
      "outputs": []
    },
    {
      "cell_type": "code",
      "source": [
        "data2['Text'] = data2['Text'].apply(preprocessing)"
      ],
      "metadata": {
        "id": "IK9cmPo_ch77"
      },
      "execution_count": 247,
      "outputs": []
    },
    {
      "cell_type": "code",
      "source": [
        "ngram_range = (1,2)\n",
        "\n",
        "data2['Text'] = data2['Text'].apply(' '.join)\n",
        "vectorizer2 = TfidfVectorizer(ngram_range = ngram_range)\n",
        "tfidf_matrix2 = vectorizer2.fit_transform(data2['Text'])\n",
        "\n",
        "# here we are converting sparse matrix into dense matrix\n",
        "tfidf_matrix2 = tfidf_matrix2.toarray()\n",
        "\n",
        "# here we are creating a data frame from a dense matrix\n",
        "tfidf_df2 = pd.DataFrame(tfidf_matrix2, columns=vectorizer2.get_feature_names_out())\n",
        "\n",
        "# here we are adding a column named Category to the dataframe\n",
        "tfidf_df2['Category'] = data2['Category']\n",
        "\n",
        "# here we are evaluating the mean of each feature\n",
        "tficf_df2 = tfidf_df2.groupby('Category').mean()"
      ],
      "metadata": {
        "id": "ck92wEQrckFD"
      },
      "execution_count": 248,
      "outputs": []
    },
    {
      "cell_type": "code",
      "source": [
        "# splitting the dataset(test_size=0.3)\n",
        "X_train4, X_test4, y_train4, y_test4 = train_test_split(tfidf_df2.drop('Category', axis=1), tfidf_df2['Category'], test_size=0.3, random_state=42)"
      ],
      "metadata": {
        "id": "UoYreP3Acm_S"
      },
      "execution_count": 249,
      "outputs": []
    },
    {
      "cell_type": "code",
      "source": [
        "# Naive Bayes classifier\n",
        "clf4 = MultinomialNB()\n",
        "clf4.fit(X_train4, y_train4)\n",
        "y_pred4 = clf4.predict(X_test4)"
      ],
      "metadata": {
        "id": "HS1kXFbScpfb"
      },
      "execution_count": 250,
      "outputs": []
    },
    {
      "cell_type": "code",
      "source": [
        "accuracy4 = accuracy_score(y_test4, y_pred4)\n",
        "\n",
        "print(color.BOLD+color.PURPLE+'Accuracy:', accuracy4)\n",
        "\n",
        "confusion_matrix4 = confusion_matrix(y_test4, y_pred4)\n",
        "print(color.BOLD+color.PURPLE+'Confusion matrix:\\n', confusion_matrix4)\n",
        "\n",
        "precision4 = precision_score(y_test4, y_pred4, average='macro')\n",
        "f1_4 = f1_score(y_test4, y_pred4, average='macro')\n",
        "recall4 = recall_score(y_test4, y_pred4, average='macro')\n",
        "\n",
        "print(color.BOLD+color.PURPLE+f'Precision: {precision4:.4f}')\n",
        "print(color.BOLD+color.PURPLE+f'Recall: {recall4:.4f}')\n",
        "print(color.BOLD+color.PURPLE+f'F1 score: {f1_4:.4f}')"
      ],
      "metadata": {
        "colab": {
          "base_uri": "https://localhost:8080/"
        },
        "id": "wzx07wlOcsNC",
        "outputId": "cf0e57d6-0302-441f-9f66-99993cf0b735"
      },
      "execution_count": 251,
      "outputs": [
        {
          "output_type": "stream",
          "name": "stdout",
          "text": [
            "\u001b[1m\u001b[95mAccuracy: 0.9574944071588367\n",
            "\u001b[1m\u001b[95mConfusion matrix:\n",
            " [[104   0   2   0   2]\n",
            " [  2  72   0   5   0]\n",
            " [  2   0  81   1   2]\n",
            " [  0   0   0 101   0]\n",
            " [  0   0   2   1  70]]\n",
            "\u001b[1m\u001b[95mPrecision: 0.9594\n",
            "\u001b[1m\u001b[95mRecall: 0.9550\n",
            "\u001b[1m\u001b[95mF1 score: 0.9566\n"
          ]
        }
      ]
    }
  ]
}